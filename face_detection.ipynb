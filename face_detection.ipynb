{
 "cells": [
  {
   "cell_type": "code",
   "execution_count": 1,
   "metadata": {},
   "outputs": [],
   "source": [
    "import cv2\n",
    "import numpy as np\n",
    "import requests"
   ]
  },
  {
   "cell_type": "code",
   "execution_count": 2,
   "metadata": {},
   "outputs": [],
   "source": [
    "def face_boundry(img,classifier,scaleFactor,minNeighour,color,text):\n",
    "    gray_img=cv2.cvtColor(img,cv2.COLOR_RGB2GRAY)\n",
    "    features = classifier.detectMultiScale(gray_img,scaleFactor,minNeighour)\n",
    "    coords=[]\n",
    "    for (x,y,w,h) in features:\n",
    "        cv2.rectangle(img,(x,y),(x+w,y+h),color,2)\n",
    "        cv2.putText(img,text,(x,y-4),cv2.FONT_HERSHEY_PLAIN,0.8,color,1,cv2.LINE_AA)\n",
    "        coords=[x,y,w,h]\n",
    "    return coords,img    "
   ]
  },
  {
   "cell_type": "code",
   "execution_count": 3,
   "metadata": {},
   "outputs": [],
   "source": [
    "def Detect(img,faceCascade):\n",
    "    color={\"blue\":(255,0,0),\"red\":(0,0,255),\"green\":(0,255,0)}\n",
    "    coords,img = face_boundry(img,faceCascade,1.1,5,color[\"blue\"],\"face\")\n",
    "    return img"
   ]
  },
  {
   "cell_type": "code",
   "execution_count": 4,
   "metadata": {},
   "outputs": [],
   "source": [
    "#url=\"http://172.16.37.4:8080/photo.jpg\""
   ]
  },
  {
   "cell_type": "code",
   "execution_count": null,
   "metadata": {},
   "outputs": [],
   "source": [
    "faceCascade=cv2.CascadeClassifier(\"haarcascade_frontalface_default.xml\")\n",
    "Video_Capture=cv2.VideoCapture(0)\n",
    "while True:\n",
    "    #img_res=requests.get(url)\n",
    "    #img_arr=np.array(bytearray(img_res.content))\n",
    "    #img=cv2.imdecode(img_arr,-1)\n",
    "    _,img=Video_Capture.read()\n",
    "    img1=Detect(img,faceCascade)\n",
    "    cv2.imshow(\"image\",img1)\n",
    "    if cv2.waitKey(1) and 0xFF == 'q':\n",
    "        break\n",
    "Video_capture.release()\n",
    "cv2.destroyAllWindow()"
   ]
  },
  {
   "cell_type": "code",
   "execution_count": null,
   "metadata": {},
   "outputs": [],
   "source": []
  }
 ],
 "metadata": {
  "kernelspec": {
   "display_name": "Python 3",
   "language": "python",
   "name": "python3"
  },
  "language_info": {
   "codemirror_mode": {
    "name": "ipython",
    "version": 3
   },
   "file_extension": ".py",
   "mimetype": "text/x-python",
   "name": "python",
   "nbconvert_exporter": "python",
   "pygments_lexer": "ipython3",
   "version": "3.6.5"
  }
 },
 "nbformat": 4,
 "nbformat_minor": 2
}
